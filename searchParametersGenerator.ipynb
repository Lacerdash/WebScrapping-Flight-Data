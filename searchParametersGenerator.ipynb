{
 "cells": [
  {
   "attachments": {},
   "cell_type": "markdown",
   "metadata": {},
   "source": [
    "## **Generating random url Parameters to use in the function**\n",
    "\n",
    "This code generates a list of 300 random flight search parameters, including random departure and arrival airport codes, random departure and arrival dates (between May 1st, 2023 and October 31st, 2023), and random adult quantity (between 1 and 4). It then stores this list in a pandas dataframe and saves it to a CSV file named \"random_generated_search_parameters.csv\".\n",
    "\n",
    "Feel free to change the data range, NUM_SEARCHES, Adult quantity range, and any other parameters\n",
    "\n",
    "**ATTENTION:** Generating 300 random search parameters, might take a while so start with a lower number of parameters just to test it."
   ]
  },
  {
   "cell_type": "code",
   "execution_count": 1,
   "metadata": {},
   "outputs": [],
   "source": [
    "import pandas as pd\n",
    "import datetime\n",
    "import random"
   ]
  },
  {
   "cell_type": "code",
   "execution_count": null,
   "metadata": {},
   "outputs": [],
   "source": [
    "# Function to generate random values to use as parameters to form our webscrapping URL\n",
    "START_DATE = datetime.date(2023, 5, 1)\n",
    "END_DATE = datetime.date(2023, 10, 31)\n",
    "NUM_SEARCHES = 300\n",
    "def generate_random_search_params():\n",
    "    # Dictionary to store the random search parameters data\n",
    "    random_search_parameter_data = {}\n",
    "\n",
    "    # Generating Random Departure location and Arrival Locations Airport\n",
    "    iata_list = pd.read_excel('Dim_iata.xlsx').iata.unique()\n",
    "    random_index0, random_index1 = random.randint(0, len(iata_list) - 1), random.randint(0, len(iata_list) - 1)\n",
    "    random_search_parameter_data['Departure Iata'] = iata_list[random_index0]\n",
    "    random_search_parameter_data['Arrival Iata'] = iata_list[random_index1]\n",
    "\n",
    "    # Generating Random Departure Dates\n",
    "    random_number_of_days = random.randint(0, (END_DATE - START_DATE).days)\n",
    "    random_departure_date = START_DATE + datetime.timedelta(days=random_number_of_days)\n",
    "    random_search_parameter_data['Random Departure Dates'] = random_departure_date\n",
    "\n",
    "    # Generating Random Arrival Dates (Between 7 and 31 days from the departure)\n",
    "    random_number_of_days = random.randint(7,31)\n",
    "    random_arrival_date = random_departure_date + datetime.timedelta(days=random_number_of_days)\n",
    "    random_search_parameter_data['Random Arrival Dates'] = random_arrival_date\n",
    "\n",
    "    # Generating Random Adult Quantity from 1 to 4\n",
    "    random_search_parameter_data['Random Adult Quantity'] = random.randint(1,4)\n",
    "\n",
    "    # Returning the \"random_search_parameter_data\" dictionary\n",
    "    return random_search_parameter_data"
   ]
  },
  {
   "cell_type": "code",
   "execution_count": null,
   "metadata": {},
   "outputs": [],
   "source": [
    "flight_search_parameters_list = [generate_random_search_params() for i in range(NUM_SEARCHES)]\n",
    "flight_search_parameters_df = pd.DataFrame(flight_search_parameters_list)\n",
    "flight_search_parameters_df.to_csv('random_generated_search_parameters.csv', index = False)"
   ]
  }
 ],
 "metadata": {
  "kernelspec": {
   "display_name": "base",
   "language": "python",
   "name": "python3"
  },
  "language_info": {
   "codemirror_mode": {
    "name": "ipython",
    "version": 3
   },
   "file_extension": ".py",
   "mimetype": "text/x-python",
   "name": "python",
   "nbconvert_exporter": "python",
   "pygments_lexer": "ipython3",
   "version": "3.9.13"
  },
  "orig_nbformat": 4
 },
 "nbformat": 4,
 "nbformat_minor": 2
}
